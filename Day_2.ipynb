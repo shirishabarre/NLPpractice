{
  "nbformat": 4,
  "nbformat_minor": 0,
  "metadata": {
    "colab": {
      "provenance": [],
      "authorship_tag": "ABX9TyPVFBcGsGTeZpTXivYcWkmL",
      "include_colab_link": true
    },
    "kernelspec": {
      "name": "python3",
      "display_name": "Python 3"
    },
    "language_info": {
      "name": "python"
    }
  },
  "cells": [
    {
      "cell_type": "markdown",
      "metadata": {
        "id": "view-in-github",
        "colab_type": "text"
      },
      "source": [
        "<a href=\"https://colab.research.google.com/github/shirishabarre/NLPpractice/blob/main/Day_2.ipynb\" target=\"_parent\"><img src=\"https://colab.research.google.com/assets/colab-badge.svg\" alt=\"Open In Colab\"/></a>"
      ]
    },
    {
      "cell_type": "code",
      "execution_count": 1,
      "metadata": {
        "colab": {
          "base_uri": "https://localhost:8080/"
        },
        "id": "-tZ7tHAcgyte",
        "outputId": "d3ba8478-c710-4050-a4f8-3da28dc55108"
      },
      "outputs": [
        {
          "output_type": "stream",
          "name": "stdout",
          "text": [
            "list:\n",
            "10\n",
            "[10, 20, 30]\n",
            "\n",
            "tuple:\n",
            "5\n",
            "4\n",
            "\n",
            "dict:\n",
            "siri\n",
            "20\n"
          ]
        }
      ],
      "source": [
        "list = [10, 20, 30, 40, 50]\n",
        "tuple = (1, 2, 3, 4, 5)\n",
        "dict = {'name': 'siri','age': 20,'address':'hyderabad'}\n",
        "print(\"list:\")\n",
        "print(list[0])\n",
        "print(list[0:3])\n",
        "\n",
        "print(\"\\ntuple:\")\n",
        "print(tuple[4])\n",
        "print(tuple[-2])\n",
        "\n",
        "print(\"\\ndict:\")\n",
        "print(dict['name'])\n",
        "print(dict['age'])\n"
      ]
    }
  ]
}