{
  "nbformat": 4,
  "nbformat_minor": 0,
  "metadata": {
    "colab": {
      "provenance": [],
      "authorship_tag": "ABX9TyNfe7uMszkk2TKe9sn3hm15",
      "include_colab_link": true
    },
    "kernelspec": {
      "name": "python3",
      "display_name": "Python 3"
    },
    "language_info": {
      "name": "python"
    }
  },
  "cells": [
    {
      "cell_type": "markdown",
      "metadata": {
        "id": "view-in-github",
        "colab_type": "text"
      },
      "source": [
        "<a href=\"https://colab.research.google.com/github/shirishabarre/NLPpractice/blob/main/DAY_3.ipynb\" target=\"_parent\"><img src=\"https://colab.research.google.com/assets/colab-badge.svg\" alt=\"Open In Colab\"/></a>"
      ]
    },
    {
      "cell_type": "code",
      "execution_count": 2,
      "metadata": {
        "colab": {
          "base_uri": "https://localhost:8080/"
        },
        "id": "mExbQIxujJ6k",
        "outputId": "eb5a86f9-6eba-4218-fa05-6735c5b7eecc"
      },
      "outputs": [
        {
          "output_type": "stream",
          "name": "stdout",
          "text": [
            "Enter marks for Subject 1: 85\n",
            "Enter marks for Subject 2: 89\n",
            "Enter marks for Subject 3: 77\n",
            "Grade: B\n"
          ]
        }
      ],
      "source": [
        "subject1 = int(input(\"Enter marks for Subject 1: \"))\n",
        "subject2 = int(input(\"Enter marks for Subject 2: \"))\n",
        "subject3 = int(input(\"Enter marks for Subject 3: \"))\n",
        "average_marks = (subject1 + subject2 + subject3) / 3\n",
        "if average_marks >= 90:\n",
        "    print(\"Grade: A\")\n",
        "elif 80 <= average_marks < 90:\n",
        "    print(\"Grade: B\")\n",
        "elif 70 <= average_marks < 80:\n",
        "    print(\"Grade: C\")\n",
        "else:\n",
        "    print(\"Grade: Fail\")"
      ]
    }
  ]
}