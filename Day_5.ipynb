{
  "nbformat": 4,
  "nbformat_minor": 0,
  "metadata": {
    "colab": {
      "provenance": [],
      "authorship_tag": "ABX9TyNlB226Xfbb1Ssy/H2tcTEJ",
      "include_colab_link": true
    },
    "kernelspec": {
      "name": "python3",
      "display_name": "Python 3"
    },
    "language_info": {
      "name": "python"
    }
  },
  "cells": [
    {
      "cell_type": "markdown",
      "metadata": {
        "id": "view-in-github",
        "colab_type": "text"
      },
      "source": [
        "<a href=\"https://colab.research.google.com/github/shirishabarre/NLPpractice/blob/main/Day_5.ipynb\" target=\"_parent\"><img src=\"https://colab.research.google.com/assets/colab-badge.svg\" alt=\"Open In Colab\"/></a>"
      ]
    },
    {
      "cell_type": "code",
      "execution_count": 2,
      "metadata": {
        "colab": {
          "base_uri": "https://localhost:8080/"
        },
        "id": "4k0zMf_uravU",
        "outputId": "f26553f4-bddc-42ff-b2b0-8267e09bd888"
      },
      "outputs": [
        {
          "output_type": "stream",
          "name": "stdout",
          "text": [
            "i: 1\n",
            "scream: 3\n",
            "you: 1\n",
            "we: 1\n",
            "all: 1\n",
            "for: 1\n",
            "ice: 1\n",
            "cream.: 1\n"
          ]
        }
      ],
      "source": [
        "str=\"I scream you scream we all scream for ice cream.\"\n",
        "str=str.lower()\n",
        "words=str.split()\n",
        "word_f={}\n",
        "for word in words:\n",
        "    if word not in word_f:\n",
        "        word_f[word]=1\n",
        "    else:\n",
        "        word_f[word]+=1\n",
        "for word, f in word_f.items():\n",
        "  print(f\"{word}: {f}\")"
      ]
    },
    {
      "cell_type": "code",
      "source": [],
      "metadata": {
        "id": "K-jAqOjrt9Ts"
      },
      "execution_count": null,
      "outputs": []
    }
  ]
}