{
  "nbformat": 4,
  "nbformat_minor": 0,
  "metadata": {
    "colab": {
      "provenance": [],
      "authorship_tag": "ABX9TyNLwWy7mdNHH1l+ykAcT3SO",
      "include_colab_link": true
    },
    "kernelspec": {
      "name": "python3",
      "display_name": "Python 3"
    },
    "language_info": {
      "name": "python"
    }
  },
  "cells": [
    {
      "cell_type": "markdown",
      "metadata": {
        "id": "view-in-github",
        "colab_type": "text"
      },
      "source": [
        "<a href=\"https://colab.research.google.com/github/shirishabarre/NLPpractice/blob/main/DAY_1A.ipynb\" target=\"_parent\"><img src=\"https://colab.research.google.com/assets/colab-badge.svg\" alt=\"Open In Colab\"/></a>"
      ]
    },
    {
      "cell_type": "markdown",
      "source": [
        "DAY-1"
      ],
      "metadata": {
        "id": "MynAkzaRcwPQ"
      }
    },
    {
      "cell_type": "code",
      "execution_count": null,
      "metadata": {
        "colab": {
          "base_uri": "https://localhost:8080/"
        },
        "id": "KnpZYVkSbrEB",
        "outputId": "7e7f3b91-ab33-4a40-cc3b-e9392baf202f"
      },
      "outputs": [
        {
          "output_type": "stream",
          "name": "stdout",
          "text": [
            "51\n",
            "3.14\n",
            "Artificial Intelligence\n",
            "False\n"
          ]
        }
      ],
      "source": [
        "integer = 51\n",
        "float = 3.14\n",
        "string = \"Artificial Intelligence\"\n",
        "boolean = False\n",
        "print(integer)\n",
        "print(float)\n",
        "print(string)\n",
        "print(boolean)\n"
      ]
    }
  ]
}